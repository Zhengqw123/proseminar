{
 "cells": [
  {
   "cell_type": "code",
   "execution_count": 1,
   "id": "8808bb86",
   "metadata": {},
   "outputs": [],
   "source": [
    "import torch\n",
    "import torch.nn as nn\n",
    "import torch.optim as optim\n",
    "from torch.utils.data import TensorDataset, DataLoader\n",
    "import numpy as np\n",
    "import matplotlib.pyplot as plt"
   ]
  },
  {
   "cell_type": "code",
   "execution_count": 2,
   "id": "e17595b4",
   "metadata": {},
   "outputs": [],
   "source": [
    "p = 97  # prime number\n",
    "train_frac = 0.5  # training fraction\n",
    "d_model = 128  # model dimension\n",
    "n_layers = 2  # number of Transformer layers\n",
    "n_heads = 4  # number of attention heads\n",
    "batch_size = 512\n",
    "lr = 0.001\n",
    "weight_decay = 1  # AdamW weight decay\n",
    "max_steps = 400"
   ]
  },
  {
   "cell_type": "code",
   "execution_count": 3,
   "id": "99ac0475",
   "metadata": {},
   "outputs": [],
   "source": [
    "def generate_dataset(p, train_frac):\n",
    "    pairs = [(a, b, (a+b) % p) for a in range(p) for b in range(p)] # x ◦ y \n",
    "    np.random.shuffle(pairs)\n",
    "    split = int(len(pairs) * train_frac)\n",
    "    train_data, val_data = pairs[:split], pairs[split:]\n",
    "    return train_data, val_data\n",
    "\n",
    "vocab = {'<a>': 0, '<b>': 1, '<op>': 2, '=': 3, **{f'<{i}>': i+4 for i in range(p)}}\n",
    "vocab_size = len(vocab)"
   ]
  },
  {
   "cell_type": "code",
   "execution_count": 4,
   "id": "f0d70c5a",
   "metadata": {},
   "outputs": [],
   "source": [
    "def encode(a, b, c):\n",
    "    ## input form：<a><op><b>=<c>\n",
    "    return [\n",
    "        vocab[f'<{a}>'], vocab['<op>'], vocab[f'<{b}>'], vocab['='], vocab[f'<{c}>']\n",
    "    ]\n",
    "\n",
    "## generate the dataset\n",
    "train_data, val_data = generate_dataset(p, train_frac)\n",
    "train_sequences = [encode(a, b, c) for a, b, c in train_data]\n",
    "val_sequences = [encode(a, b, c) for a, b, c in val_data]\n",
    "\n",
    "## transform into the PyTorch Dataset\n",
    "def to_tensor(sequences):\n",
    "    inputs = torch.tensor([seq[:-1] for seq in sequences], dtype=torch.long) # take first (n-1) elements from each sequence\n",
    "    targets = torch.tensor([seq[-1] for seq in sequences], dtype=torch.long) # take the last element from each sequence\n",
    "    return TensorDataset(inputs, targets)\n",
    "\n",
    "train_dataset = to_tensor(train_sequences)\n",
    "val_dataset = to_tensor(val_sequences)\n",
    "train_loader = DataLoader(train_dataset, batch_size=batch_size, shuffle=True)\n",
    "val_loader = DataLoader(val_dataset, batch_size=batch_size)"
   ]
  },
  {
   "cell_type": "code",
   "execution_count": 5,
   "id": "65a55a02",
   "metadata": {},
   "outputs": [],
   "source": [
    "## define a Transformer Model\n",
    "class GrokkingTransformer(nn.Module):\n",
    "    def __init__(self):\n",
    "        super().__init__()\n",
    "        self.noise_std = 0.01\n",
    "\n",
    "        self.embed = nn.Embedding(vocab_size, d_model)\n",
    "        self.pos_embed = nn.Parameter(torch.randn(4, d_model))  # the input length 4\n",
    "        encoder_layer = nn.TransformerEncoderLayer(\n",
    "            d_model=d_model,\n",
    "            nhead=n_heads,\n",
    "            dim_feedforward=d_model*4,\n",
    "            batch_first=True )\n",
    "        self.transformer = nn.TransformerEncoder(encoder_layer, num_layers=n_layers)\n",
    "        self.fc = nn.Linear(d_model, vocab_size)\n",
    "        \n",
    "    def forward(self, x):\n",
    "        x = self.embed(x) + self.pos_embed  # token embedding plus positional encoding\n",
    "        \n",
    "        if self.training:  # add noise in training step\n",
    "            x = x + torch.randn_like(x) * self.noise_std\n",
    "            \n",
    "        mask = torch.triu(torch.ones(4, 4), diagonal=1).bool() \n",
    "        x = self.transformer(x, mask=mask) # transformer encoder\n",
    "        x = x.mean(dim=1) # mean pooling\n",
    "        return self.fc(x) # classification output"
   ]
  },
  {
   "cell_type": "code",
   "execution_count": 7,
   "id": "6f0c6349",
   "metadata": {},
   "outputs": [
    {
     "name": "stdout",
     "output_type": "stream",
     "text": [
      "Step      0 | Train Accuracy: 1.08% | Val Accuracy: 0.74%\n",
      "Step     10 | Train Accuracy: 3.47% | Val Accuracy: 0.08%\n",
      "Step     20 | Train Accuracy: 5.08% | Val Accuracy: 0.00%\n",
      "Step     30 | Train Accuracy: 7.82% | Val Accuracy: 0.00%\n",
      "Step     40 | Train Accuracy: 10.99% | Val Accuracy: 0.04%\n",
      "Step     50 | Train Accuracy: 16.20% | Val Accuracy: 0.00%\n",
      "Step     60 | Train Accuracy: 20.77% | Val Accuracy: 0.02%\n",
      "Step     70 | Train Accuracy: 23.45% | Val Accuracy: 0.02%\n",
      "Step     80 | Train Accuracy: 28.95% | Val Accuracy: 0.06%\n",
      "Step     90 | Train Accuracy: 43.22% | Val Accuracy: 0.36%\n",
      "Step    100 | Train Accuracy: 52.98% | Val Accuracy: 1.05%\n",
      "Step    110 | Train Accuracy: 71.60% | Val Accuracy: 3.09%\n",
      "Step    120 | Train Accuracy: 83.48% | Val Accuracy: 5.84%\n",
      "Step    130 | Train Accuracy: 87.07% | Val Accuracy: 9.67%\n",
      "Step    140 | Train Accuracy: 92.56% | Val Accuracy: 15.76%\n",
      "Step    150 | Train Accuracy: 95.15% | Val Accuracy: 22.79%\n",
      "Step    160 | Train Accuracy: 98.11% | Val Accuracy: 36.71%\n",
      "Step    170 | Train Accuracy: 98.81% | Val Accuracy: 50.25%\n",
      "Step    180 | Train Accuracy: 99.72% | Val Accuracy: 68.12%\n",
      "Step    190 | Train Accuracy: 100.00% | Val Accuracy: 82.69%\n",
      "Step    200 | Train Accuracy: 99.98% | Val Accuracy: 90.62%\n",
      "Step    210 | Train Accuracy: 100.00% | Val Accuracy: 95.37%\n",
      "Step    220 | Train Accuracy: 100.00% | Val Accuracy: 97.71%\n",
      "Step    230 | Train Accuracy: 100.00% | Val Accuracy: 98.68%\n",
      "Step    240 | Train Accuracy: 100.00% | Val Accuracy: 99.14%\n",
      "Step    250 | Train Accuracy: 99.96% | Val Accuracy: 98.84%\n",
      "Step    260 | Train Accuracy: 100.00% | Val Accuracy: 99.79%\n",
      "Step    270 | Train Accuracy: 100.00% | Val Accuracy: 99.33%\n",
      "Step    280 | Train Accuracy: 99.98% | Val Accuracy: 99.75%\n",
      "Step    290 | Train Accuracy: 100.00% | Val Accuracy: 99.74%\n",
      "Step    300 | Train Accuracy: 100.00% | Val Accuracy: 99.82%\n",
      "Step    310 | Train Accuracy: 100.00% | Val Accuracy: 99.92%\n",
      "Step    320 | Train Accuracy: 99.98% | Val Accuracy: 99.73%\n",
      "Step    330 | Train Accuracy: 100.00% | Val Accuracy: 100.00%\n",
      "Step    340 | Train Accuracy: 100.00% | Val Accuracy: 99.92%\n",
      "Step    350 | Train Accuracy: 100.00% | Val Accuracy: 99.98%\n",
      "Step    360 | Train Accuracy: 100.00% | Val Accuracy: 100.00%\n",
      "Step    370 | Train Accuracy: 100.00% | Val Accuracy: 100.00%\n",
      "Step    380 | Train Accuracy: 99.91% | Val Accuracy: 99.77%\n",
      "Step    390 | Train Accuracy: 100.00% | Val Accuracy: 100.00%\n"
     ]
    }
   ],
   "source": [
    "model = GrokkingTransformer()\n",
    "optimizer = optim.AdamW(model.parameters(), lr=lr,betas=[0.9, 0.98], weight_decay=weight_decay)\n",
    "criterion = nn.CrossEntropyLoss()\n",
    "\n",
    "## training loop (monitoring training/validation accuracy)\n",
    "train_accs, val_accs = [], []\n",
    "\n",
    "for step in range(max_steps):\n",
    "    model.train()\n",
    "    for inputs, targets in train_loader:\n",
    "        optimizer.zero_grad()\n",
    "        logits = model(inputs)\n",
    "        loss = criterion(logits, targets)\n",
    "        loss.backward()\n",
    "        optimizer.step()\n",
    "    \n",
    "    ## evaluate every N steps\n",
    "    if step % 10 == 0:\n",
    "        model.eval()\n",
    "        # train accuracy\n",
    "        with torch.no_grad():\n",
    "            logits = model(train_dataset.tensors[0])\n",
    "            train_acc = (logits.argmax(dim=1) == train_dataset.tensors[1]).float().mean().item()\n",
    "        # validation accuracy\n",
    "        val_acc = 0\n",
    "        for inputs, targets in val_loader:\n",
    "            logits = model(inputs)\n",
    "            val_acc += (logits.argmax(dim=1) == targets).float().mean().item()\n",
    "        val_acc /= len(val_loader)\n",
    "        \n",
    "        train_accs.append(train_acc)\n",
    "        val_accs.append(val_acc)\n",
    "        print(f\"Step {step:6d} | Train Accuracy: {train_acc*100:.2f}% | Val Accuracy: {val_acc*100:.2f}%\")"
   ]
  },
  {
   "cell_type": "code",
   "execution_count": 8,
   "id": "c57819be",
   "metadata": {},
   "outputs": [
    {
     "data": {
      "image/png": "[encoded data removed]",
      "text/plain": [
       "<Figure size 640x480 with 1 Axes>"
      ]
     },
     "metadata": {},
     "output_type": "display_data"
    }
   ],
   "source": [
    "plt.plot(train_accs, label='Train')\n",
    "plt.plot(val_accs, label='Validation')\n",
    "plt.axhline(y=1/p, color='r', linestyle='--', label='Chance')\n",
    "plt.xlabel('Steps (x10)')\n",
    "plt.ylabel('Accuracy')\n",
    "plt.legend()\n",
    "plt.show()"
   ]
  }
 ],
 "metadata": {
  "kernelspec": {
   "display_name": "Python 3",
   "language": "python",
   "name": "python3"
  },
  "language_info": {
   "codemirror_mode": {
    "name": "ipython",
    "version": 3
   },
   "file_extension": ".py",
   "mimetype": "text/x-python",
   "name": "python",
   "nbconvert_exporter": "python",
   "pygments_lexer": "ipython3",
   "version": "3.12.4"
  }
 },
 "nbformat": 4,
 "nbformat_minor": 5
}
